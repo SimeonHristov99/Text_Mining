{
  "cells": [
    {
      "cell_type": "markdown",
      "metadata": {
        "id": "epqSHtVfXFTx"
      },
      "source": [
        "# Text mining \n",
        "## HW 2 MaxEnt on Reuters\n",
        "\n",
        "We are going to train a Multiclass Maximum Entropy (Softmax Regression) to predict the origin of a document coming from the 20newsgroup dataset.\n",
        "\n",
        "This exercise is similar to 01-LinearRegression. The difference is that you'll have to implement the algorithm yourself.\n",
        "\n",
        "For this puprose we'll use PyTorch, and sklearn. Your job is to fill in the missing code into the cells below.\n",
        "\n",
        "You will find the steps you need to perform in the **Task** section in each cell."
      ]
    },
    {
      "cell_type": "code",
      "execution_count": 1,
      "metadata": {},
      "outputs": [],
      "source": [
        "%reset -f\n",
        "%load_ext autoreload\n",
        "%autoreload 2"
      ]
    },
    {
      "cell_type": "code",
      "execution_count": 2,
      "metadata": {
        "id": "flB8qoV29Xvg"
      },
      "outputs": [],
      "source": [
        "import torch\n",
        "import torch.nn as nn\n",
        "import torch.nn.functional as F\n",
        "from torch.utils.data import Dataset, DataLoader\n",
        "\n",
        "import numpy as np\n",
        "import pandas as pd\n",
        "\n",
        "from sklearn.datasets import fetch_20newsgroups\n",
        "from sklearn.feature_extraction.text import TfidfVectorizer\n",
        "from sklearn.preprocessing import OrdinalEncoder"
      ]
    },
    {
      "cell_type": "code",
      "execution_count": 3,
      "metadata": {
        "colab": {
          "base_uri": "https://localhost:8080/",
          "height": 34
        },
        "id": "Cm9CTv8U_fBW",
        "outputId": "056a9a87-0a5d-4e2a-a669-57526268d140"
      },
      "outputs": [
        {
          "name": "stdout",
          "output_type": "stream",
          "text": [
            "Loading data...\n"
          ]
        }
      ],
      "source": [
        "print('Loading data...')\n",
        "\n",
        "# Passing none as we want to train over all the data.\n",
        "newsgroups_train = fetch_20newsgroups(subset='train',\n",
        "                                      categories=None)\n",
        "\n",
        "newsgroups_test = fetch_20newsgroups(subset='test',\n",
        "                                      categories=None)"
      ]
    },
    {
      "cell_type": "code",
      "execution_count": 4,
      "metadata": {
        "id": "HrHtsTtdBcDC"
      },
      "outputs": [],
      "source": [
        "BATCH_SIZE = 32\n",
        "MAX_EPOCHS = 20\n",
        "# Lambda\n",
        "REG_PARAM = 0.01\n",
        "# Alpha \n",
        "LEARNING_RATE = 1e-02\n",
        "# Number of features\n",
        "MAX_WORDS = 10000\n",
        "# Priting error information after display_step epochs\n",
        "DISPLAY_STEP = 1\n",
        "NUM_CLASSES = np.max(newsgroups_train.target) + 1"
      ]
    },
    {
      "cell_type": "code",
      "execution_count": 5,
      "metadata": {
        "id": "utot6Yqu_39N"
      },
      "outputs": [],
      "source": [
        "def to_categorical(y, num_classes):\n",
        "    \"\"\" 1-hot encodes a tensor \"\"\"\n",
        "    return np.eye(num_classes, dtype='uint8')[y]"
      ]
    },
    {
      "cell_type": "code",
      "execution_count": 6,
      "metadata": {
        "colab": {
          "base_uri": "https://localhost:8080/",
          "height": 139
        },
        "id": "2u_iBGCW_uf4",
        "outputId": "cd718032-8837-481e-9fee-2c9d428b403c"
      },
      "outputs": [
        {
          "name": "stdout",
          "output_type": "stream",
          "text": [
            "20 classes\n",
            "Vectorizing sequence data...\n",
            "x_train shape: (11314, 10000)\n",
            "y_train shape: (11314,)\n",
            "x_test shape: (7532, 10000)\n",
            "y_test shape: (7532,)\n"
          ]
        }
      ],
      "source": [
        "print(NUM_CLASSES, 'classes')\n",
        "\n",
        "print('Vectorizing sequence data...')\n",
        "\n",
        "vectorizer = TfidfVectorizer(max_features=MAX_WORDS)\n",
        "\n",
        "tfidf_vectors_train = vectorizer.fit_transform(newsgroups_train.data)\n",
        "tfidf_vectors_test = vectorizer.transform(newsgroups_test.data)\n",
        "\n",
        "x_train = tfidf_vectors_train.toarray()\n",
        "x_test = tfidf_vectors_test.toarray()\n",
        "\n",
        "y_train = newsgroups_train.target\n",
        "y_test = newsgroups_test.target\n",
        "\n",
        "print('x_train shape:', x_train.shape)\n",
        "print('y_train shape:', y_train.shape)\n",
        "print('x_test shape:', x_test.shape)\n",
        "print('y_test shape:', y_test.shape)"
      ]
    },
    {
      "cell_type": "code",
      "execution_count": 7,
      "metadata": {
        "id": "RBfeJBij73Ec"
      },
      "outputs": [],
      "source": [
        "class TwentyNewsGroupsDataset(Dataset):\n",
        "    def __init__(self, x, y):\n",
        "        self.x = torch.from_numpy(x)\n",
        "        self.y = torch.from_numpy(y)\n",
        "\n",
        "        assert len(self.x) == len(self.y)\n",
        "\n",
        "    def __len__(self):\n",
        "        return len(self.x)\n",
        "\n",
        "    def __getitem__(self, idx):\n",
        "        return self.x[idx], self.y[idx]\n",
        "\n",
        "train_dataset = TwentyNewsGroupsDataset(x_train, y_train) \n",
        "test_dataset = TwentyNewsGroupsDataset(x_test, y_test)"
      ]
    },
    {
      "cell_type": "markdown",
      "metadata": {
        "id": "deFXqhp1Iaxw"
      },
      "source": [
        "# Model initilization\n",
        "\n",
        "Here comes the most interesting part of the model. You'll have to implement Softmax Regression with SGD. The formulas are presented below for you. You don't have to derive them, you can use them as they are, or you can use PyTorch's gradient function to obtain them.\n",
        "\n",
        "## Softmax regression formulas\n",
        "\n",
        "*Keep in mind that those are the final formulas, the derivation of gradients has been omitted, but in order to derive them you must use the chain and quotient rules.*\n",
        "\n",
        "Here is the basic linear (activation) function:\n",
        "\n",
        "$ z_i = x^T w_i + b_i$\n",
        "\n",
        "This is the softmax (prediction) for class i:\n",
        "\n",
        "$\\hat{y}_i = \\sigma(\\textbf{z})_i = \\frac{\\exp(z_i)}{\\sum_{k=1}^{K}{\\exp(z_k)}}$\n",
        "\n",
        "Derivative of the softmax wrt the activation, here $1(i = j)$ is the identity function, which is $1$ if $i = j$ and $0$ otherwise:\n",
        "\n",
        "${\\frac{\\partial}{\\partial w_j} \\sigma(\\textbf{z})_i = \\sigma(\\textbf{z})_i}(1(i = j) - {\\sigma(\\textbf{z})_j})\\ x$\n",
        "\n",
        "Negative cross-entropy, note that this is a dot product of $y$ and $\\hat{y}$, which are K dimentional vectors (y is K dimentional vector with 1 in correct class and 0 everywhere else, so it can be omitted for other classes).\n",
        "\n",
        "$\\mathcal{L_s} = - \\frac{1}{N}\\sum_{i = 1}^N y_{i} \\log(\\hat{y}_{i}) $\n",
        "\n",
        "Gradient of the loss with respect to the weights (i is the correct class):\n",
        "\n",
        "$ \\frac{\\partial }{\\partial w_i} \\mathcal{L_s} = \\hat{y_i}\\ x $\n",
        "\n",
        "Weights update making a step in the direction opposite to the gradient, since we are minimizing the loss and the gradient is always pointing in the direction of the maximim.\n",
        "Alpha is the learning rate.\n",
        "\n",
        "$ w_i = w_i - \\alpha \\frac{\\partial }{\\partial w_i} \\mathcal{L_s} $\n",
        "\n",
        "Accuracy:\n",
        "\n",
        "$ Acc(y, \\hat{y}) = \\frac{1}{N}\\sum_{i = 1}^N 1(arg\\,max_{j \\in K}\\ \\hat{y}_{i,j} = y_i) $\n",
        "\n",
        "## Dimentions of components\n",
        "$ N $ - number of examples\n",
        "\n",
        "$ M $ - number of features\n",
        "\n",
        "$ K $ - number of classes\n",
        "\n",
        "Features input $ x \\in {\\rm I\\!R}^{N \\times M} $\n",
        "\n",
        "Expected class $ y \\in {\\rm I\\!R}^{N \\times M} $\n",
        "\n",
        "Weight matrix $ W \\in {\\rm I\\!R}^{M  \\times K} $\n",
        "\n",
        "Per class bias $ b \\in {\\rm I\\!R}^{K} $\n",
        "\n",
        "## Tasks\n",
        "1. Implement softmax regression using the formulas above;\n",
        "2. Implement accuracy metric, but use cross entropy for optimization. (In the `evaluation` function)\n",
        "\n",
        "## Tips\n",
        "Checking the PyTorch's documentation, and the lecture \"Introduction to PyTorch\". Also you can use all the built-in to compute the gradients!\n",
        "\n",
        "Also in the loss function you can use the [LogSoftmax](https://pytorch.org/docs/master/nn.html?highlight=log_softmax#torch.nn.LogSoftmax) for numerical stability.\n",
        "\n",
        "Check the [sub](https://pytorch.org/docs/stable/tensors.html#torch.Tensor.sub_) function of a Tensor, you will most probably need it.\n"
      ]
    },
    {
      "cell_type": "code",
      "execution_count": 10,
      "metadata": {
        "id": "d5o1W22c5d7m"
      },
      "outputs": [],
      "source": [
        "class LogisticRegression(nn.Module):\n",
        "\n",
        "  def __init__(self, features_size, num_classes):\n",
        "    super(LogisticRegression, self).__init__()\n",
        "\n",
        "    self.w = torch.rand((features_size, num_classes))\n",
        "    self.b = torch.rand(features_size)\n",
        "\n",
        "  def forward(self, x):\n",
        "    # logits =  # x + self.b\n",
        "    y_hat = F.softmax(logits)\n",
        "\n",
        "    return (logits, y_hat)\n",
        "\n",
        "model = LogisticRegression(x_train.shape[1], NUM_CLASSES)"
      ]
    },
    {
      "cell_type": "code",
      "execution_count": null,
      "metadata": {},
      "outputs": [],
      "source": [
        "torch.matmul(train_dataset.x.T, model.w)"
      ]
    },
    {
      "cell_type": "code",
      "execution_count": null,
      "metadata": {},
      "outputs": [],
      "source": [
        "dataloader = DataLoader(train_dataset, batch_size=BATCH_SIZE,\n",
        "                        shuffle=True, drop_last=False)\n",
        "for x, y in dataloader:\n",
        "    print(x)\n",
        "    print('-----------')\n",
        "    print(y)\n",
        "    cost = update_weights(model, x, y)\n",
        "    break\n"
      ]
    },
    {
      "cell_type": "code",
      "execution_count": null,
      "metadata": {
        "id": "jH2w_FdLWAVf"
      },
      "outputs": [],
      "source": [
        "def update_weight(model, x, y):\n",
        "  # Fit training using batch data and propagate the error\n",
        "  # Feel free to change as you prefer\n",
        "\n",
        "  # l2_reg = ...\n",
        "  logits, _ = model(x)\n",
        "  loss = F.cross_entropy(logits, y)\n",
        "\n",
        "  # Update w and b\n",
        "  \n",
        "\n",
        "  return loss.detach().cpu()"
      ]
    },
    {
      "cell_type": "code",
      "execution_count": null,
      "metadata": {
        "id": "EoPTBWijWA2M"
      },
      "outputs": [],
      "source": [
        "def evaluate(model, dataset):\n",
        "  #fill the evaluation function, you can change parameters if you like\n",
        "  ...\n",
        "  pass"
      ]
    },
    {
      "attachments": {},
      "cell_type": "markdown",
      "metadata": {
        "id": "K4Lz4Jo_IijC"
      },
      "source": [
        "# Model training\n",
        "\n",
        "Train your model with calling the `update_weights` function, and cost computation methods. You don't have to modify this section.\n",
        "\n",
        "## Sanity check\n",
        "\n",
        "Your loss should be similar to:\n",
        "\n",
        "Epoch: 0001 cost=4.237748146  \n",
        "Epoch: 0002 cost=2.006925821  \n",
        "Epoch: 0003 cost=0.838360906  \n",
        "Epoch: 0004 cost=0.526503205  \n",
        "Epoch: 0005 cost=0.406159312  \n",
        "Epoch: 0006 cost=0.338935345  \n",
        "Epoch: 0007 cost=0.288057804  \n",
        "Epoch: 0008 cost=0.245860726  \n",
        "Epoch: 0009 cost=0.208140314  \n",
        "Epoch: 0010 cost=0.170706153  \n",
        "Epoch: 0011 cost=0.141715422  \n",
        "Epoch: 0012 cost=0.117129274  \n",
        "Epoch: 0013 cost=0.094932191  \n",
        "Epoch: 0014 cost=0.075968713  \n",
        "Epoch: 0015 cost=0.060179509  \n",
        "Epoch: 0016 cost=0.049887933  \n",
        "Epoch: 0017 cost=0.039890103  \n",
        "Epoch: 0018 cost=0.033839807  \n",
        "Epoch: 0019 cost=0.027970247  \n",
        "Epoch: 0020 cost=0.024634583  \n",
        "Optimization Finished!  "
      ]
    },
    {
      "cell_type": "code",
      "execution_count": null,
      "metadata": {
        "colab": {
          "base_uri": "https://localhost:8080/",
          "height": 382
        },
        "id": "MI4eJ-st9Qgw",
        "outputId": "7f83caad-0b68-4e3d-ebe6-9d7f7ce03795"
      },
      "outputs": [],
      "source": [
        "# Training cycle\n",
        "def train(model, dataset):\n",
        "  model.train()\n",
        "  \n",
        "  for epoch in range(1, MAX_EPOCHS+1):\n",
        "    avg_cost = []\n",
        "    dataloader = DataLoader(dataset, batch_size=BATCH_SIZE,\n",
        "                        shuffle=True, drop_last=False)\n",
        "    for x, y in (dataloader):\n",
        "      cost = update_weights(model, x, y)\n",
        "\n",
        "      avg_cost.append(cost)\n",
        "    # Display logs per each DISPLAY_STEP\n",
        "    if (epoch) % DISPLAY_STEP == 0:\n",
        "      print (\"Epoch: {:04d} cost={:.9f}\".format(epoch, np.mean(avg_cost)))\n",
        "train(model, train_dataset)\n",
        "print (\"Optimization Finished!\")"
      ]
    },
    {
      "cell_type": "code",
      "execution_count": null,
      "metadata": {
        "colab": {
          "base_uri": "https://localhost:8080/",
          "height": 52
        },
        "id": "2ZPWLMWEEOxm",
        "outputId": "5721c8a6-cd25-4a37-e556-e3010c51266f"
      },
      "outputs": [],
      "source": [
        "print(\"Training datset\", evaluate(model, train_dataset))\n",
        "print(\"Test datset\", evaluate(model, test_dataset))"
      ]
    }
  ],
  "metadata": {
    "colab": {
      "provenance": []
    },
    "kernelspec": {
      "display_name": "Python 3",
      "name": "python3"
    },
    "language_info": {
      "codemirror_mode": {
        "name": "ipython",
        "version": 3
      },
      "file_extension": ".py",
      "mimetype": "text/x-python",
      "name": "python",
      "nbconvert_exporter": "python",
      "pygments_lexer": "ipython3",
      "version": "3.10.6"
    }
  },
  "nbformat": 4,
  "nbformat_minor": 0
}

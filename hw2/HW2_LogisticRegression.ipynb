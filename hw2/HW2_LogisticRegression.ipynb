{
  "cells": [
    {
      "cell_type": "markdown",
      "metadata": {
        "id": "epqSHtVfXFTx"
      },
      "source": [
        "# Text mining \n",
        "## HW 2 MaxEnt on Reuters\n",
        "\n",
        "We are going to train a Multiclass Maximum Entropy (Softmax Regression) to predict the origin of a document coming from the 20newsgroup dataset.\n",
        "\n",
        "This exercise is similar to 01-LinearRegression. The difference is that you'll have to implement the algorithm yourself.\n",
        "\n",
        "For this puprose we'll use PyTorch, and sklearn. Your job is to fill in the missing code into the cells below.\n",
        "\n",
        "You will find the steps you need to perform in the **Task** section in each cell."
      ]
    },
    {
      "cell_type": "code",
      "execution_count": 319,
      "metadata": {},
      "outputs": [
        {
          "name": "stdout",
          "output_type": "stream",
          "text": [
            "The autoreload extension is already loaded. To reload it, use:\n",
            "  %reload_ext autoreload\n"
          ]
        }
      ],
      "source": [
        "%reset -f\n",
        "%load_ext autoreload\n",
        "%autoreload 2"
      ]
    },
    {
      "cell_type": "code",
      "execution_count": 320,
      "metadata": {
        "id": "flB8qoV29Xvg"
      },
      "outputs": [],
      "source": [
        "import torch\n",
        "import torch.nn as nn\n",
        "import torch.nn.functional as F\n",
        "from torch.utils.data import Dataset, DataLoader\n",
        "from torch.optim import Adam, AdamW\n",
        "\n",
        "import numpy as np\n",
        "import pandas as pd\n",
        "import matplotlib.pyplot as plt\n",
        "\n",
        "from sklearn.datasets import fetch_20newsgroups\n",
        "from sklearn.feature_extraction.text import TfidfVectorizer\n",
        "from sklearn.preprocessing import OrdinalEncoder"
      ]
    },
    {
      "cell_type": "code",
      "execution_count": 321,
      "metadata": {
        "colab": {
          "base_uri": "https://localhost:8080/",
          "height": 34
        },
        "id": "Cm9CTv8U_fBW",
        "outputId": "056a9a87-0a5d-4e2a-a669-57526268d140"
      },
      "outputs": [
        {
          "name": "stdout",
          "output_type": "stream",
          "text": [
            "Loading data...\n"
          ]
        }
      ],
      "source": [
        "print('Loading data...')\n",
        "\n",
        "# Passing none as we want to train over all the data.\n",
        "newsgroups_train = fetch_20newsgroups(subset='train',\n",
        "                                      categories=None)\n",
        "\n",
        "newsgroups_test = fetch_20newsgroups(subset='test',\n",
        "                                      categories=None)"
      ]
    },
    {
      "cell_type": "code",
      "execution_count": 322,
      "metadata": {
        "id": "HrHtsTtdBcDC"
      },
      "outputs": [],
      "source": [
        "BATCH_SIZE = 32\n",
        "MAX_EPOCHS = 20\n",
        "# Lambda\n",
        "REG_PARAM = 0.01\n",
        "# Alpha \n",
        "LEARNING_RATE = 1e-02\n",
        "# Number of features\n",
        "MAX_WORDS = 10000\n",
        "# Priting error information after display_step epochs\n",
        "DISPLAY_STEP = 1\n",
        "NUM_CLASSES = np.max(newsgroups_train.target) + 1"
      ]
    },
    {
      "cell_type": "code",
      "execution_count": 323,
      "metadata": {
        "id": "utot6Yqu_39N"
      },
      "outputs": [],
      "source": [
        "def to_categorical(y, num_classes):\n",
        "    \"\"\" 1-hot encodes a tensor \"\"\"\n",
        "    return np.eye(num_classes, dtype='uint8')[y]"
      ]
    },
    {
      "cell_type": "code",
      "execution_count": 324,
      "metadata": {
        "colab": {
          "base_uri": "https://localhost:8080/",
          "height": 139
        },
        "id": "2u_iBGCW_uf4",
        "outputId": "cd718032-8837-481e-9fee-2c9d428b403c"
      },
      "outputs": [
        {
          "name": "stdout",
          "output_type": "stream",
          "text": [
            "20 classes\n",
            "Vectorizing sequence data...\n",
            "x_train shape: (11314, 10000)\n",
            "y_train shape: (11314,)\n",
            "x_test shape: (7532, 10000)\n",
            "y_test shape: (7532,)\n"
          ]
        }
      ],
      "source": [
        "print(NUM_CLASSES, 'classes')\n",
        "\n",
        "print('Vectorizing sequence data...')\n",
        "\n",
        "vectorizer = TfidfVectorizer(max_features=MAX_WORDS)\n",
        "\n",
        "tfidf_vectors_train = vectorizer.fit_transform(newsgroups_train.data)\n",
        "tfidf_vectors_test = vectorizer.transform(newsgroups_test.data)\n",
        "\n",
        "x_train = tfidf_vectors_train.toarray()\n",
        "x_test = tfidf_vectors_test.toarray()\n",
        "\n",
        "y_train = newsgroups_train.target\n",
        "y_test = newsgroups_test.target\n",
        "\n",
        "print('x_train shape:', x_train.shape)\n",
        "print('y_train shape:', y_train.shape)\n",
        "print('x_test shape:', x_test.shape)\n",
        "print('y_test shape:', y_test.shape)"
      ]
    },
    {
      "cell_type": "code",
      "execution_count": 325,
      "metadata": {
        "id": "RBfeJBij73Ec"
      },
      "outputs": [],
      "source": [
        "class TwentyNewsGroupsDataset(Dataset):\n",
        "    def __init__(self, x, y):\n",
        "        self.x = torch.from_numpy(x)\n",
        "        self.y = torch.from_numpy(y)\n",
        "\n",
        "        assert len(self.x) == len(self.y)\n",
        "\n",
        "    def __len__(self):\n",
        "        return len(self.x)\n",
        "\n",
        "    def __getitem__(self, idx):\n",
        "        return self.x[idx], self.y[idx]\n",
        "\n",
        "train_dataset = TwentyNewsGroupsDataset(x_train, y_train) \n",
        "test_dataset = TwentyNewsGroupsDataset(x_test, y_test)"
      ]
    },
    {
      "cell_type": "markdown",
      "metadata": {
        "id": "deFXqhp1Iaxw"
      },
      "source": [
        "# Model initilization\n",
        "\n",
        "Here comes the most interesting part of the model. You'll have to implement Softmax Regression with SGD. The formulas are presented below for you. You don't have to derive them, you can use them as they are, or you can use PyTorch's gradient function to obtain them.\n",
        "\n",
        "## Softmax regression formulas\n",
        "\n",
        "*Keep in mind that those are the final formulas, the derivation of gradients has been omitted, but in order to derive them you must use the chain and quotient rules.*\n",
        "\n",
        "Here is the basic linear (activation) function:\n",
        "\n",
        "$ z_i = x^T w_i + b_i$\n",
        "\n",
        "This is the softmax (prediction) for class i:\n",
        "\n",
        "$\\hat{y}_i = \\sigma(\\textbf{z})_i = \\frac{\\exp(z_i)}{\\sum_{k=1}^{K}{\\exp(z_k)}}$\n",
        "\n",
        "Derivative of the softmax wrt the activation, here $1(i = j)$ is the identity function, which is $1$ if $i = j$ and $0$ otherwise:\n",
        "\n",
        "${\\frac{\\partial}{\\partial w_j} \\sigma(\\textbf{z})_i = \\sigma(\\textbf{z})_i}(1(i = j) - {\\sigma(\\textbf{z})_j})\\ x$\n",
        "\n",
        "Negative cross-entropy, note that this is a dot product of $y$ and $\\hat{y}$, which are K dimentional vectors (y is K dimentional vector with 1 in correct class and 0 everywhere else, so it can be omitted for other classes).\n",
        "\n",
        "$\\mathcal{L_s} = - \\frac{1}{N}\\sum_{i = 1}^N y_{i} \\log(\\hat{y}_{i}) $\n",
        "\n",
        "Gradient of the loss with respect to the weights (i is the correct class):\n",
        "\n",
        "$ \\frac{\\partial }{\\partial w_i} \\mathcal{L_s} = \\hat{y_i}\\ x $\n",
        "\n",
        "Weights update making a step in the direction opposite to the gradient, since we are minimizing the loss and the gradient is always pointing in the direction of the maximim.\n",
        "Alpha is the learning rate.\n",
        "\n",
        "$ w_i = w_i - \\alpha \\frac{\\partial }{\\partial w_i} \\mathcal{L_s} $\n",
        "\n",
        "Accuracy:\n",
        "\n",
        "$ Acc(y, \\hat{y}) = \\frac{1}{N}\\sum_{i = 1}^N 1(arg\\,max_{j \\in K}\\ \\hat{y}_{i,j} = y_i) $\n",
        "\n",
        "## Dimentions of components\n",
        "$ N $ - number of examples\n",
        "\n",
        "$ M $ - number of features\n",
        "\n",
        "$ K $ - number of classes\n",
        "\n",
        "Features input $ x \\in {\\rm I\\!R}^{N \\times M} $\n",
        "\n",
        "Expected class $ y \\in {\\rm I\\!R}^{N \\times M} $\n",
        "\n",
        "Weight matrix $ W \\in {\\rm I\\!R}^{M  \\times K} $\n",
        "\n",
        "Per class bias $ b \\in {\\rm I\\!R}^{K} $\n",
        "\n",
        "## Tasks\n",
        "1. Implement softmax regression using the formulas above;\n",
        "2. Implement accuracy metric, but use cross entropy for optimization. (In the `evaluation` function)\n",
        "\n",
        "## Tips\n",
        "Checking the PyTorch's documentation, and the lecture \"Introduction to PyTorch\". Also you can use all the built-in to compute the gradients!\n",
        "\n",
        "Also in the loss function you can use the [LogSoftmax](https://pytorch.org/docs/master/nn.html?highlight=log_softmax#torch.nn.LogSoftmax) for numerical stability.\n",
        "\n",
        "Check the [sub](https://pytorch.org/docs/stable/tensors.html#torch.Tensor.sub_) function of a Tensor, you will most probably need it.\n"
      ]
    },
    {
      "cell_type": "code",
      "execution_count": 326,
      "metadata": {
        "id": "d5o1W22c5d7m"
      },
      "outputs": [],
      "source": [
        "class LogisticRegression(nn.Module):\n",
        "\n",
        "  def __init__(self, features_size, num_classes):\n",
        "    super(LogisticRegression, self).__init__()\n",
        "    self.w = nn.Parameter(torch.rand((features_size, num_classes), dtype=torch.float64))\n",
        "    self.b = nn.Parameter(torch.rand(num_classes, dtype=torch.float64))\n",
        "\n",
        "  def forward(self, x):\n",
        "    logits = torch.matmul(x, self.w)\n",
        "    y_hat = F.softmax(logits, -1)\n",
        "    return (logits, y_hat)\n",
        "\n",
        "model = LogisticRegression(x_train.shape[1], NUM_CLASSES)"
      ]
    },
    {
      "cell_type": "code",
      "execution_count": 327,
      "metadata": {
        "id": "jH2w_FdLWAVf"
      },
      "outputs": [],
      "source": [
        "# optimizer = Adam(model.parameters(), lr=LEARNING_RATE) # without weight decay\n",
        "optimizer = AdamW(model.parameters(), lr=LEARNING_RATE, weight_decay=REG_PARAM) # with weight decay (more stable than l2_reg?)\n",
        "\n",
        "def update_weights(model, x, y):\n",
        "  # Fit training using batch data and propagate the error\n",
        "  # l2_reg = REG_PARAM * sum([(p**2).sum() for p in model.parameters()])\n",
        "  # loss_reg = loss + l2_reg\n",
        "  \n",
        "  logits, _ = model(x)\n",
        "  loss = F.cross_entropy(logits, y)\n",
        "\n",
        "  # Update w and b\n",
        "  optimizer.zero_grad()\n",
        "  loss.backward()\n",
        "  optimizer.step()\n",
        "\n",
        "  return loss.detach().cpu()"
      ]
    },
    {
      "cell_type": "code",
      "execution_count": 328,
      "metadata": {
        "id": "EoPTBWijWA2M"
      },
      "outputs": [],
      "source": [
        "def evaluate(model, dataset):\n",
        "  #fill the evaluation function, you can change parameters if you like\n",
        "  avg_cost = []\n",
        "  \n",
        "  dataloader = DataLoader(dataset, batch_size=BATCH_SIZE,\n",
        "                    shuffle=True, drop_last=False)\n",
        "  \n",
        "  model.eval()\n",
        "  with torch.no_grad():\n",
        "    for x, y in (dataloader):\n",
        "      logits, _ = model(x)\n",
        "      cost = F.cross_entropy(logits, y)\n",
        "      avg_cost.append(cost)\n",
        "  model.train()\n",
        "  \n",
        "  return np.mean(avg_cost)"
      ]
    },
    {
      "attachments": {},
      "cell_type": "markdown",
      "metadata": {
        "id": "K4Lz4Jo_IijC"
      },
      "source": [
        "# Model training\n",
        "\n",
        "Train your model with calling the `update_weights` function, and cost computation methods. You don't have to modify this section.\n",
        "\n",
        "## Sanity check\n",
        "\n",
        "Your loss should be similar to:\n",
        "\n",
        "Epoch: 0001 cost=4.237748146  \n",
        "Epoch: 0002 cost=2.006925821  \n",
        "Epoch: 0003 cost=0.838360906  \n",
        "Epoch: 0004 cost=0.526503205  \n",
        "Epoch: 0005 cost=0.406159312  \n",
        "Epoch: 0006 cost=0.338935345  \n",
        "Epoch: 0007 cost=0.288057804  \n",
        "Epoch: 0008 cost=0.245860726  \n",
        "Epoch: 0009 cost=0.208140314  \n",
        "Epoch: 0010 cost=0.170706153  \n",
        "Epoch: 0011 cost=0.141715422  \n",
        "Epoch: 0012 cost=0.117129274  \n",
        "Epoch: 0013 cost=0.094932191  \n",
        "Epoch: 0014 cost=0.075968713  \n",
        "Epoch: 0015 cost=0.060179509  \n",
        "Epoch: 0016 cost=0.049887933  \n",
        "Epoch: 0017 cost=0.039890103  \n",
        "Epoch: 0018 cost=0.033839807  \n",
        "Epoch: 0019 cost=0.027970247  \n",
        "Epoch: 0020 cost=0.024634583  \n",
        "Optimization Finished!  "
      ]
    },
    {
      "cell_type": "code",
      "execution_count": 329,
      "metadata": {
        "colab": {
          "base_uri": "https://localhost:8080/",
          "height": 382
        },
        "id": "MI4eJ-st9Qgw",
        "outputId": "7f83caad-0b68-4e3d-ebe6-9d7f7ce03795"
      },
      "outputs": [
        {
          "name": "stdout",
          "output_type": "stream",
          "text": [
            "epoch=01 | train_loss=1.66047 | val_loss=1.18215 | diff=-0.4783\n",
            "epoch=02 | train_loss=0.52708 | val_loss=0.88101 | diff=0.3539\n",
            "epoch=03 | train_loss=0.28872 | val_loss=0.77645 | diff=0.4877\n",
            "epoch=04 | train_loss=0.18706 | val_loss=0.72519 | diff=0.5381\n",
            "epoch=05 | train_loss=0.13194 | val_loss=0.69536 | diff=0.5634\n",
            "epoch=06 | train_loss=0.09839 | val_loss=0.67164 | diff=0.5733\n",
            "epoch=07 | train_loss=0.07662 | val_loss=0.66146 | diff=0.5848\n",
            "epoch=08 | train_loss=0.06111 | val_loss=0.65065 | diff=0.5895\n",
            "epoch=09 | train_loss=0.05012 | val_loss=0.64317 | diff=0.5930\n",
            "epoch=10 | train_loss=0.04173 | val_loss=0.63853 | diff=0.5968\n",
            "epoch=11 | train_loss=0.03527 | val_loss=0.63373 | diff=0.5985\n",
            "epoch=12 | train_loss=0.03016 | val_loss=0.63066 | diff=0.6005\n",
            "epoch=13 | train_loss=0.02591 | val_loss=0.62785 | diff=0.6019\n",
            "epoch=14 | train_loss=0.02248 | val_loss=0.62458 | diff=0.6021\n",
            "epoch=15 | train_loss=0.01959 | val_loss=0.62396 | diff=0.6044\n",
            "epoch=16 | train_loss=0.01712 | val_loss=0.62278 | diff=0.6057\n",
            "epoch=17 | train_loss=0.01506 | val_loss=0.62246 | diff=0.6074\n",
            "epoch=18 | train_loss=0.01329 | val_loss=0.62336 | diff=0.6101\n",
            "epoch=19 | train_loss=0.01175 | val_loss=0.62589 | diff=0.6141\n",
            "epoch=20 | train_loss=0.01042 | val_loss=0.62326 | diff=0.6128\n",
            "Optimization Finished!\n"
          ]
        }
      ],
      "source": [
        "# Training cycle\n",
        "train_losses = []\n",
        "val_losses = []\n",
        "diffs = []\n",
        "\n",
        "def train(model, dataset):\n",
        "  model.train()\n",
        "  \n",
        "  for epoch in range(1, MAX_EPOCHS+1):\n",
        "    avg_cost = []\n",
        "    dataloader = DataLoader(dataset, batch_size=BATCH_SIZE,\n",
        "                        shuffle=True, drop_last=False)\n",
        "    \n",
        "    for x, y in (dataloader):\n",
        "      cost = update_weights(model, x, y)\n",
        "      avg_cost.append(cost)\n",
        "    \n",
        "    # Display logs per each DISPLAY_STEP\n",
        "    if (epoch) % DISPLAY_STEP == 0:\n",
        "      train_loss = np.mean(avg_cost)\n",
        "      val_loss = evaluate(model, test_dataset)\n",
        "      diff = val_loss - train_loss\n",
        "      \n",
        "      train_losses.append(train_loss)\n",
        "      val_losses.append(val_loss)\n",
        "      diffs.append(diff)\n",
        "      \n",
        "      print(f'epoch={epoch:02d} | train_loss={train_loss:.5f} | val_loss={val_loss:.5f} | diff={diff:.4f}')\n",
        "      \n",
        "train(model, train_dataset)\n",
        "\n",
        "print (\"Optimization Finished!\")"
      ]
    },
    {
      "attachments": {},
      "cell_type": "markdown",
      "metadata": {},
      "source": [
        "# Plot losses"
      ]
    },
    {
      "cell_type": "code",
      "execution_count": 330,
      "metadata": {},
      "outputs": [
        {
          "data": {
            "image/png": "[encoded data removed]",
            "text/plain": [
              "<Figure size 640x480 with 1 Axes>"
            ]
          },
          "metadata": {},
          "output_type": "display_data"
        }
      ],
      "source": [
        "plt.title('Train vs Validation Loss Comparison')\n",
        "plt.ylabel('Loss')\n",
        "plt.xlabel('Epoch')\n",
        "plt.xticks(range(MAX_EPOCHS))\n",
        "\n",
        "plt.plot(train_losses, label='Train Loss')\n",
        "plt.plot(val_losses, label='Validation Loss')\n",
        "\n",
        "plt.legend()\n",
        "\n",
        "plt.show()"
      ]
    },
    {
      "cell_type": "code",
      "execution_count": 331,
      "metadata": {},
      "outputs": [
        {
          "data": {
            "image/png": "[encoded data removed]",
            "text/plain": [
              "<Figure size 640x480 with 1 Axes>"
            ]
          },
          "metadata": {},
          "output_type": "display_data"
        }
      ],
      "source": [
        "plt.title('Distance Between Train and Validation Loss')\n",
        "plt.ylabel('Distance')\n",
        "plt.xlabel('Epoch')\n",
        "plt.xticks(range(MAX_EPOCHS))\n",
        "\n",
        "plt.plot(diffs, label='Distance')\n",
        "\n",
        "plt.legend()\n",
        "plt.show()"
      ]
    },
    {
      "cell_type": "markdown",
      "metadata": {},
      "source": [
        "# Final verdict: Overfitting!"
      ]
    },
    {
      "cell_type": "code",
      "execution_count": 332,
      "metadata": {
        "colab": {
          "base_uri": "https://localhost:8080/",
          "height": 52
        },
        "id": "2ZPWLMWEEOxm",
        "outputId": "5721c8a6-cd25-4a37-e556-e3010c51266f"
      },
      "outputs": [
        {
          "name": "stdout",
          "output_type": "stream",
          "text": [
            "Training datset 0.008461682785699445\n",
            "Test datset 0.6238549353353464\n"
          ]
        }
      ],
      "source": [
        "# We have overfitting. Model is not good.\n",
        "\n",
        "train_loss = evaluate(model, train_dataset)\n",
        "validation_loss = evaluate(model, test_dataset)\n",
        "\n",
        "print(\"Training datset\", train_loss)\n",
        "print(\"Test datset\", validation_loss)"
      ]
    }
  ],
  "metadata": {
    "colab": {
      "provenance": []
    },
    "kernelspec": {
      "display_name": "Python 3",
      "name": "python3"
    },
    "language_info": {
      "codemirror_mode": {
        "name": "ipython",
        "version": 3
      },
      "file_extension": ".py",
      "mimetype": "text/x-python",
      "name": "python",
      "nbconvert_exporter": "python",
      "pygments_lexer": "ipython3",
      "version": "3.10.6"
    }
  },
  "nbformat": 4,
  "nbformat_minor": 0
}
